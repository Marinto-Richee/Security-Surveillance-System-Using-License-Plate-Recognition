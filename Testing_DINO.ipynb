{
 "cells": [
  {
   "cell_type": "code",
   "execution_count": 1,
   "metadata": {},
   "outputs": [],
   "source": [
    "import numpy as np\n",
    "import os\n",
    "import supervision as sv\n",
    "import cv2\n",
    "from PIL import Image\n",
    "import supervision as sv\n",
    "import groundingdino.datasets.transforms as T\n",
    "import torch\n",
    "\n",
    "from torchvision.ops import box_convert"
   ]
  },
  {
   "cell_type": "code",
   "execution_count": 3,
   "metadata": {},
   "outputs": [
    {
     "name": "stdout",
     "output_type": "stream",
     "text": [
      "^C\n"
     ]
    },
    {
     "name": "stderr",
     "output_type": "stream",
     "text": [
      "Cloning into 'GroundingDINO'...\n"
     ]
    }
   ],
   "source": [
    "import os\n",
    "WEIGHTS_NAME = \"groundingdino_swint_ogc.pth\"\n",
    "if os.path.isfile(WEIGHTS_NAME) is False:    \n",
    "    !wget -q https://github.com/IDEA-Research/GroundingDINO/releases/download/v0.1.0-alpha/groundingdino_swint_ogc.pth\n",
    "if os.path.isfile(\"GroundingDINO\\groundingdino\\config\\GroundingDINO_SwinT_OGC.py\") is False:\n",
    "    !git clone https://github.com/IDEA-Research/GroundingDINO.git"
   ]
  },
  {
   "cell_type": "code",
   "execution_count": 2,
   "metadata": {},
   "outputs": [
    {
     "data": {
      "text/plain": [
       "True"
      ]
     },
     "execution_count": 2,
     "metadata": {},
     "output_type": "execute_result"
    }
   ],
   "source": [
    "os.path.isfile(\"GroundingDINO\\groundingdino\\config\\GroundingDINO_SwinT_OGC.py\")"
   ]
  },
  {
   "cell_type": "code",
   "execution_count": 3,
   "metadata": {},
   "outputs": [
    {
     "name": "stderr",
     "output_type": "stream",
     "text": [
      "c:\\Users\\marin\\anaconda3\\envs\\Pytorch\\lib\\site-packages\\tqdm\\auto.py:21: TqdmWarning: IProgress not found. Please update jupyter and ipywidgets. See https://ipywidgets.readthedocs.io/en/stable/user_install.html\n",
      "  from .autonotebook import tqdm as notebook_tqdm\n",
      "c:\\Users\\marin\\anaconda3\\envs\\Pytorch\\lib\\site-packages\\torch\\functional.py:504: UserWarning: torch.meshgrid: in an upcoming release, it will be required to pass the indexing argument. (Triggered internally at C:\\actions-runner\\_work\\pytorch\\pytorch\\builder\\windows\\pytorch\\aten\\src\\ATen\\native\\TensorShape.cpp:3484.)\n",
      "  return _VF.meshgrid(tensors, **kwargs)  # type: ignore[attr-defined]\n"
     ]
    },
    {
     "name": "stdout",
     "output_type": "stream",
     "text": [
      "final text_encoder_type: bert-base-uncased\n"
     ]
    },
    {
     "name": "stderr",
     "output_type": "stream",
     "text": [
      "Downloading (…)okenizer_config.json: 100%|██████████| 28.0/28.0 [00:00<00:00, 6.98kB/s]\n",
      "c:\\Users\\marin\\anaconda3\\envs\\Pytorch\\lib\\site-packages\\huggingface_hub\\file_download.py:133: UserWarning: `huggingface_hub` cache-system uses symlinks by default to efficiently store duplicated files but your machine does not support them in C:\\Users\\marin\\.cache\\huggingface\\hub. Caching files will still work but in a degraded version that might require more space on your disk. This warning can be disabled by setting the `HF_HUB_DISABLE_SYMLINKS_WARNING` environment variable. For more details, see https://huggingface.co/docs/huggingface_hub/how-to-cache#limitations.\n",
      "To support symlinks on Windows, you either need to activate Developer Mode or to run Python as an administrator. In order to see activate developer mode, see this article: https://docs.microsoft.com/en-us/windows/apps/get-started/enable-your-device-for-development\n",
      "  warnings.warn(message)\n",
      "Downloading (…)lve/main/config.json: 100%|██████████| 570/570 [00:00<00:00, 143kB/s]\n",
      "Downloading (…)solve/main/vocab.txt: 100%|██████████| 232k/232k [00:00<00:00, 526kB/s]\n",
      "Downloading (…)/main/tokenizer.json: 100%|██████████| 466k/466k [00:00<00:00, 3.08MB/s]\n",
      "Downloading pytorch_model.bin: 100%|██████████| 440M/440M [00:13<00:00, 33.7MB/s] \n",
      "Some weights of the model checkpoint at bert-base-uncased were not used when initializing BertModel: ['cls.predictions.transform.dense.bias', 'cls.predictions.decoder.weight', 'cls.seq_relationship.bias', 'cls.seq_relationship.weight', 'cls.predictions.transform.dense.weight', 'cls.predictions.bias', 'cls.predictions.transform.LayerNorm.weight', 'cls.predictions.transform.LayerNorm.bias']\n",
      "- This IS expected if you are initializing BertModel from the checkpoint of a model trained on another task or with another architecture (e.g. initializing a BertForSequenceClassification model from a BertForPreTraining model).\n",
      "- This IS NOT expected if you are initializing BertModel from the checkpoint of a model that you expect to be exactly identical (initializing a BertForSequenceClassification model from a BertForSequenceClassification model).\n"
     ]
    }
   ],
   "source": [
    "from groundingdino.util.inference import load_model, load_image, predict, annotate\n",
    "model = load_model(\"GroundingDINO\\groundingdino\\config\\GroundingDINO_SwinT_OGC.py\", \"groundingdino_swint_ogc.pth\")"
   ]
  },
  {
   "cell_type": "code",
   "execution_count": 4,
   "metadata": {},
   "outputs": [
    {
     "name": "stderr",
     "output_type": "stream",
     "text": [
      "c:\\Users\\marin\\anaconda3\\envs\\Pytorch\\lib\\site-packages\\transformers\\modeling_utils.py:862: FutureWarning: The `device` argument is deprecated and will be removed in v5 of Transformers.\n",
      "  warnings.warn(\n",
      "c:\\Users\\marin\\anaconda3\\envs\\Pytorch\\lib\\site-packages\\torch\\utils\\checkpoint.py:31: UserWarning: None of the inputs have requires_grad=True. Gradients will be None\n",
      "  warnings.warn(\"None of the inputs have requires_grad=True. Gradients will be None\")\n",
      "c:\\Users\\marin\\anaconda3\\envs\\Pytorch\\lib\\site-packages\\transformers\\modeling_utils.py:862: FutureWarning: The `device` argument is deprecated and will be removed in v5 of Transformers.\n",
      "  warnings.warn(\n",
      "c:\\Users\\marin\\anaconda3\\envs\\Pytorch\\lib\\site-packages\\torch\\utils\\checkpoint.py:31: UserWarning: None of the inputs have requires_grad=True. Gradients will be None\n",
      "  warnings.warn(\"None of the inputs have requires_grad=True. Gradients will be None\")\n"
     ]
    }
   ],
   "source": [
    "IMAGE_FOLDER = 'output'\n",
    "LICENSE_PLATE_FOLDER = 'License Plate'\n",
    "TEXT_PROMPT = \"Number Plate\"\n",
    "BOX_THRESHOLD = 0.3\n",
    "TEXT_THRESHOLD = 0.3\n",
    "for file_name in os.listdir(IMAGE_FOLDER):\n",
    "    if file_name.endswith('.jpg'):\n",
    "        # load image\n",
    "        image_path = os.path.join(IMAGE_FOLDER, file_name)\n",
    "        image_source, image = load_image(image_path)\n",
    "        # detect license plates\n",
    "        boxes, logits, phrases = predict(\n",
    "            model=model, \n",
    "            image=image, \n",
    "            caption=TEXT_PROMPT, \n",
    "            box_threshold=BOX_THRESHOLD, \n",
    "            text_threshold=TEXT_THRESHOLD\n",
    "        )\n",
    "        if len(boxes) ==0:\n",
    "            continue\n",
    "        # save license plate images to separate folder\n",
    "        h, w, _ = image_source.shape\n",
    "        boxes = boxes * torch.Tensor([w, h, w, h])\n",
    "        xyxy = box_convert(boxes=boxes, in_fmt=\"cxcywh\", out_fmt=\"xyxy\").numpy()\n",
    "        detections = sv.Detections(xyxy=xyxy)\n",
    "        image_source=cv2.cvtColor(image_source, cv2.COLOR_BGR2RGB)\n",
    "        for i in range(len(detections)):\n",
    "            x1, y1, x2, y2 = detections.xyxy[i].astype(int)\n",
    "            license_plate_file_name = f\"{os.path.splitext(file_name)[0]}_{i}.jpg\"\n",
    "            license_plate_file_path = os.path.join(LICENSE_PLATE_FOLDER, license_plate_file_name)\n",
    "            cv2.imwrite(license_plate_file_path,image_source[y1:y2,x1:x2])"
   ]
  }
 ],
 "metadata": {
  "kernelspec": {
   "display_name": "Tensorflow",
   "language": "python",
   "name": "python3"
  },
  "language_info": {
   "codemirror_mode": {
    "name": "ipython",
    "version": 3
   },
   "file_extension": ".py",
   "mimetype": "text/x-python",
   "name": "python",
   "nbconvert_exporter": "python",
   "pygments_lexer": "ipython3",
   "version": "3.8.16"
  },
  "orig_nbformat": 4
 },
 "nbformat": 4,
 "nbformat_minor": 2
}
