{
 "cells": [
  {
   "cell_type": "code",
   "execution_count": 2,
   "metadata": {},
   "outputs": [],
   "source": [
    "import numpy as np\n",
    "import os\n",
    "import supervision as sv\n",
    "import cv2\n",
    "from PIL import Image\n",
    "import supervision as sv\n",
    "import groundingdino.datasets.transforms as T\n",
    "import torch\n",
    "from torchvision.ops import box_convert"
   ]
  },
  {
   "cell_type": "code",
   "execution_count": 3,
   "metadata": {},
   "outputs": [],
   "source": [
    "import os\n",
    "WEIGHTS_NAME = \"groundingdino_swint_ogc.pth\"\n",
    "if os.path.isfile(WEIGHTS_NAME) is False:    \n",
    "    !wget -q https://github.com/IDEA-Research/GroundingDINO/releases/download/v0.1.0-alpha/groundingdino_swint_ogc.pth\n",
    "if os.path.isfile(\"GroundingDINO\\groundingdino\\config\\GroundingDINO_SwinT_OGC.py\") is False:\n",
    "    !git clone https://github.com/IDEA-Research/GroundingDINO.git"
   ]
  },
  {
   "cell_type": "code",
   "execution_count": 4,
   "metadata": {},
   "outputs": [
    {
     "data": {
      "text/plain": [
       "True"
      ]
     },
     "execution_count": 4,
     "metadata": {},
     "output_type": "execute_result"
    }
   ],
   "source": [
    "os.path.isfile(\"GroundingDINO\\groundingdino\\config\\GroundingDINO_SwinT_OGC.py\")"
   ]
  },
  {
   "cell_type": "code",
   "execution_count": 5,
   "metadata": {},
   "outputs": [
    {
     "name": "stderr",
     "output_type": "stream",
     "text": [
      "c:\\Users\\marin\\anaconda3\\envs\\Pytorch\\lib\\site-packages\\tqdm\\auto.py:21: TqdmWarning: IProgress not found. Please update jupyter and ipywidgets. See https://ipywidgets.readthedocs.io/en/stable/user_install.html\n",
      "  from .autonotebook import tqdm as notebook_tqdm\n",
      "c:\\Users\\marin\\anaconda3\\envs\\Pytorch\\lib\\site-packages\\torch\\functional.py:504: UserWarning: torch.meshgrid: in an upcoming release, it will be required to pass the indexing argument. (Triggered internally at C:\\actions-runner\\_work\\pytorch\\pytorch\\builder\\windows\\pytorch\\aten\\src\\ATen\\native\\TensorShape.cpp:3484.)\n",
      "  return _VF.meshgrid(tensors, **kwargs)  # type: ignore[attr-defined]\n"
     ]
    },
    {
     "name": "stdout",
     "output_type": "stream",
     "text": [
      "final text_encoder_type: bert-base-uncased\n"
     ]
    },
    {
     "name": "stderr",
     "output_type": "stream",
     "text": [
      "Some weights of the model checkpoint at bert-base-uncased were not used when initializing BertModel: ['cls.predictions.decoder.weight', 'cls.predictions.transform.dense.weight', 'cls.predictions.transform.LayerNorm.bias', 'cls.seq_relationship.weight', 'cls.predictions.bias', 'cls.predictions.transform.LayerNorm.weight', 'cls.seq_relationship.bias', 'cls.predictions.transform.dense.bias']\n",
      "- This IS expected if you are initializing BertModel from the checkpoint of a model trained on another task or with another architecture (e.g. initializing a BertForSequenceClassification model from a BertForPreTraining model).\n",
      "- This IS NOT expected if you are initializing BertModel from the checkpoint of a model that you expect to be exactly identical (initializing a BertForSequenceClassification model from a BertForSequenceClassification model).\n"
     ]
    }
   ],
   "source": [
    "from groundingdino.util.inference import load_model, load_image, predict, annotate\n",
    "model = load_model(\"GroundingDINO\\groundingdino\\config\\GroundingDINO_SwinT_OGC.py\", \"groundingdino_swint_ogc.pth\")"
   ]
  },
  {
   "cell_type": "code",
   "execution_count": 20,
   "metadata": {},
   "outputs": [],
   "source": [
    "IMAGE_FOLDER = 'output'\n",
    "LICENSE_PLATE_FOLDER = 'License Plate'\n",
    "TEXT_PROMPT = \"Number Plate\"\n",
    "BOX_THRESHOLD = 0.3\n",
    "TEXT_THRESHOLD = 0.3\n",
    "for file_name in os.listdir(IMAGE_FOLDER):\n",
    "    if file_name.endswith('.jpg'):\n",
    "        # load image\n",
    "        image_path = os.path.join(IMAGE_FOLDER, file_name)\n",
    "        image_source, image = load_image(image_path)\n",
    "        # detect license plates\n",
    "        boxes, logits, phrases = predict(\n",
    "            model=model, \n",
    "            image=image, \n",
    "            caption=TEXT_PROMPT, \n",
    "            box_threshold=BOX_THRESHOLD, \n",
    "            text_threshold=TEXT_THRESHOLD\n",
    "        )\n",
    "        if len(boxes) ==0:\n",
    "            continue\n",
    "        # save license plate images to separate folder\n",
    "        h, w, _ = image_source.shape\n",
    "        boxes = boxes * torch.Tensor([w, h, w, h])\n",
    "        xyxy = box_convert(boxes=boxes, in_fmt=\"cxcywh\", out_fmt=\"xyxy\").numpy()\n",
    "        detections = sv.Detections(xyxy=xyxy)\n",
    "        image_source=cv2.cvtColor(image_source, cv2.COLOR_BGR2RGB)\n",
    "        for i in range(len(detections)):\n",
    "            x1, y1, x2, y2 = detections.xyxy[i].astype(int)\n",
    "            license_plate_file_name = f\"{os.path.splitext(file_name)[0]}_{i}.jpg\"\n",
    "            license_plate_file_path = os.path.join(LICENSE_PLATE_FOLDER, license_plate_file_name)\n",
    "            cv2.imwrite(license_plate_file_path,image_source[y1:y2,x1:x2])"
   ]
  },
  {
   "cell_type": "code",
   "execution_count": null,
   "metadata": {},
   "outputs": [],
   "source": []
  }
 ],
 "metadata": {
  "kernelspec": {
   "display_name": "Tensorflow",
   "language": "python",
   "name": "python3"
  },
  "language_info": {
   "codemirror_mode": {
    "name": "ipython",
    "version": 3
   },
   "file_extension": ".py",
   "mimetype": "text/x-python",
   "name": "python",
   "nbconvert_exporter": "python",
   "pygments_lexer": "ipython3",
   "version": "3.8.16"
  },
  "orig_nbformat": 4
 },
 "nbformat": 4,
 "nbformat_minor": 2
}
